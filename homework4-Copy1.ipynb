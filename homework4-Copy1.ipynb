{
 "cells": [
  {
   "cell_type": "markdown",
   "metadata": {},
   "source": [
    "# Hypothesis Testing Homework\n",
    "\n",
    "In this lab you will explore doing some of your own statistics with regards to the `pvd_arrests` and `pvd_cases` data. For each question, please provide:\n",
    "\n",
    " * reproducible code to arrive at your answer\n",
    " * your thought process on the code and statistical test you chose\n",
    " * an exploratory data visualization associated with the question\n",
    " * your response to the overall question\n",
    " \n",
    " There will not necessarily be any right ways to answer the questions (although there will certainly be wrong ways), so don't worry about making sure your answer is perfect."
   ]
  },
  {
   "cell_type": "code",
   "execution_count": 4,
   "metadata": {
    "vscode": {
     "languageId": "r"
    }
   },
   "outputs": [
    {
     "name": "stderr",
     "output_type": "stream",
     "text": [
      "Warning message in system(\"timedatectl\", intern = TRUE):\n",
      "“running command 'timedatectl' had status 1”\n",
      "── \u001b[1mAttaching core tidyverse packages\u001b[22m ──────────────────────── tidyverse 2.0.0 ──\n",
      "\u001b[32m✔\u001b[39m \u001b[34mdplyr    \u001b[39m 1.1.4     \u001b[32m✔\u001b[39m \u001b[34mreadr    \u001b[39m 2.1.5\n",
      "\u001b[32m✔\u001b[39m \u001b[34mforcats  \u001b[39m 1.0.0     \u001b[32m✔\u001b[39m \u001b[34mstringr  \u001b[39m 1.5.1\n",
      "\u001b[32m✔\u001b[39m \u001b[34mggplot2  \u001b[39m 3.5.1     \u001b[32m✔\u001b[39m \u001b[34mtibble   \u001b[39m 3.2.1\n",
      "\u001b[32m✔\u001b[39m \u001b[34mlubridate\u001b[39m 1.9.3     \u001b[32m✔\u001b[39m \u001b[34mtidyr    \u001b[39m 1.3.1\n",
      "\u001b[32m✔\u001b[39m \u001b[34mpurrr    \u001b[39m 1.0.2     \n",
      "── \u001b[1mConflicts\u001b[22m ────────────────────────────────────────── tidyverse_conflicts() ──\n",
      "\u001b[31m✖\u001b[39m \u001b[34mdplyr\u001b[39m::\u001b[32mfilter()\u001b[39m masks \u001b[34mstats\u001b[39m::filter()\n",
      "\u001b[31m✖\u001b[39m \u001b[34mdplyr\u001b[39m::\u001b[32mlag()\u001b[39m    masks \u001b[34mstats\u001b[39m::lag()\n",
      "\u001b[36mℹ\u001b[39m Use the conflicted package (\u001b[3m\u001b[34m<http://conflicted.r-lib.org/>\u001b[39m\u001b[23m) to force all conflicts to become errors\n"
     ]
    }
   ],
   "source": [
    "library(tidyverse)\n",
    "arrests_df = read.csv(\"pvd_arrests_2021-10-03.csv\")\n",
    "cases_df = read.csv(\"pvd_cases_2021-10-03.csv\")"
   ]
  },
  {
   "cell_type": "markdown",
   "metadata": {},
   "source": [
    "## 1. National arrest rate\n",
    "\n",
    "The national arrest rate was 2312.2 per 100,000 individuals in 2021 [according to the FBI](https://www.statista.com/statistics/191267/arrest-rate-for-all-offenses-in-the-us-since-1990/#:~:text=In%202022%2C%20the%20arrest%20rate,per%20100%2C000%20of%20the%20population). Was the national arrest rate in Providence in 2020 significantly different from the national average? Please cite any additional data sources used to answer this question."
   ]
  },
  {
   "cell_type": "markdown",
   "metadata": {},
   "source": [
    "### First, I need to find the arrest rate for PVD to compare with the National rate. "
   ]
  },
  {
   "cell_type": "code",
   "execution_count": 19,
   "metadata": {},
   "outputs": [
    {
     "name": "stdout",
     "output_type": "stream",
     "text": [
      "[1] 0.01389485\n"
     ]
    }
   ],
   "source": [
    "# I noticed that there are a few duplicate id, so removed all duplicates from the dataset. \n",
    "clean_arrests_df <- arrests_df %>% distinct(id, .keep_all = TRUE)\n",
    "pvd_arrests_2020 <- filter(clean_arrests_df, year == 2020)\n",
    "\n",
    "# According to \"https://www.census.gov/quickfacts/fact/table/providencecityrhodeisland/PST045223\" Population of PVD in 2020 was 190,934\n",
    "pvd_population_2020 <- 190934\n",
    "# Count how many rows are in the cleaned dataset. \n",
    "total_arrests_2020 <- nrow(pvd_arrests_2020)\n",
    "\n",
    "# Finding arrest Rate \n",
    "pvd_arrest_rate_2020 <- total_arrests_2020/pvd_population_2020\n",
    "\n",
    "print(pvd_arrest_rate_2020) "
   ]
  },
  {
   "cell_type": "markdown",
   "metadata": {},
   "source": [
    "### Second,now I need to look for the national arrest rate. "
   ]
  },
  {
   "cell_type": "code",
   "execution_count": 26,
   "metadata": {},
   "outputs": [
    {
     "name": "stdout",
     "output_type": "stream",
     "text": [
      "[1] 0.023122\n"
     ]
    }
   ],
   "source": [
    "national_arrests_2021 <- 2312.2 \n",
    "\n",
    "#Given the question, the National arrest rate was 2312.2 per 100,000, so the national rate of arrest can be found by dividing them. \n",
    "national_arrest_rate_2021 <- national_arrests_2021/100000\n",
    "\n",
    "print(national_arrest_rate_2021)"
   ]
  },
  {
   "cell_type": "code",
   "execution_count": 51,
   "metadata": {},
   "outputs": [],
   "source": [
    "# Simulate a dataset for Providence and National proportions (Used AI to figure out how to randomize and stimulate dataset in R) \n",
    "set.seed(123)\n",
    " # For Providence arrest rate\n",
    "pvd_data <- rbinom(1000, size = 1, prob = pvd_arrest_rate_2020 ) \n",
    "# For National arrest rate\n",
    "national_data <- rbinom(1000, size = 1, prob = national_arrest_rate_2021 )   "
   ]
  },
  {
   "cell_type": "code",
   "execution_count": 41,
   "metadata": {},
   "outputs": [],
   "source": [
    "# The difference between the two arrest rate stimulated datasets is \n",
    "arrest_rate_dif <- national_data - pvd_data"
   ]
  },
  {
   "cell_type": "markdown",
   "metadata": {},
   "source": [
    "### Third, Hypothesis Testing\n",
    "Now We should run a proportion hypothesis test, since both rates are in proportion not mean value. \n",
    "\n",
    "Null Hypothesis (H0): The proportion of arrests in Providence equals the national proportion of arrests. \n",
    "\n",
    "Alternative Hypothesis (HA): The proportion of arrests in Providence is significantly different from the national proportion."
   ]
  },
  {
   "cell_type": "code",
   "execution_count": 44,
   "metadata": {},
   "outputs": [
    {
     "name": "stdout",
     "output_type": "stream",
     "text": [
      "\n",
      "\tOne Sample t-test\n",
      "\n",
      "data:  arrest_rate_dif\n",
      "t = 2.2016, df = 999, p-value = 0.02792\n",
      "alternative hypothesis: true mean is not equal to 0\n",
      "95 percent confidence interval:\n",
      " 0.001412899 0.024587101\n",
      "sample estimates:\n",
      "mean of x \n",
      "    0.013 \n",
      "\n"
     ]
    }
   ],
   "source": [
    "#Use t.test function to perform two proportion hypothesis test \n",
    "t_test_result <- t.test(arrest_rate_dif, mu = 0) \n",
    "print (t_test_result)"
   ]
  },
  {
   "cell_type": "markdown",
   "metadata": {},
   "source": [
    "### Result\n",
    "The one-sample t-test shows that Providence's arrest rate in 2020 significantly differs from the national arrest rate. The mean difference in arrest rates was 0.013 0.013, with a 95% confidence interval ranging from 0.00141 0.00141 to 0.02459 0.02459. This indicates that the true difference is likely between 0.14 % 0.14% and 2.46 % 2.46%. Since the p-value 0.02 is less than the commonly used threshold of 0.05, we reject the null hypothesis, which assumes no difference in arrest rates. This suggests that Providence's arrest rate is significantly different from the national rate."
   ]
  },
  {
   "cell_type": "markdown",
   "metadata": {},
   "source": [
    "### **Visualization** "
   ]
  },
  {
   "cell_type": "code",
   "execution_count": 76,
   "metadata": {},
   "outputs": [
    {
     "data": {
      "image/png": "[encoded data removed]",
      "text/plain": [
       "plot without title"
      ]
     },
     "metadata": {
      "image/png": {
       "height": 420,
       "width": 420
      }
     },
     "output_type": "display_data"
    }
   ],
   "source": [
    "# Create a data frame for the density plot\n",
    "distribution_data <- data.frame(\n",
    "  ArrestRate = c(pvd_data, national_data),\n",
    "  Group = c(rep(\"Providence\", length(pvd_data)), rep(\"National\", length(national_data)))\n",
    ")\n",
    "\n",
    "# Density plot\n",
    "library(ggplot2)\n",
    "ggplot(distribution_data, aes(x = ArrestRate, fill = Group)) +\n",
    "  geom_density(alpha = 0.5) +\n",
    "  labs(\n",
    "    title = \"Density Plot of Arrest Rates\",\n",
    "    x = \"Arrest Rate (Proportion)\",\n",
    "    y = \"Density\"\n",
    "  ) \n"
   ]
  },
  {
   "cell_type": "markdown",
   "metadata": {},
   "source": [
    "## Density Plot\n",
    "The density plot illustrates that much of the Providence and national arrest records are concentrated toward low values, suggesting that most individuals had not been arrested in either group. Although the distributions overlap a great deal, the curve for Providence has a wider spread with a somewhat higher density in the tail area vis-à-vis the curve for all municipalities and reflects a statistically significant small difference in arrest rates. This indicates that arrest rates in Providence are slightly higher overall and may be driven by differences in law enforcement practices or local conditions. The overlap shows the arrest patterns are still very similar, except for the number difference."
   ]
  },
  {
   "cell_type": "markdown",
   "metadata": {},
   "source": [
    "# **Conclusion**\n",
    "According to the statistical analysis and visualizations, the arrest rate in Providence in the year 2020 was **statistically different** from the national arrest rate of 2312.2/100,000 for the year 2021. In order to assess whether the change in these sampled data was statistically significant, a one-sample t-test was performed, which produced a p-value of less than 0.05. \n",
    "\n",
    "Moreover, the mean arrest rate in Providence reached samples marginally above the national average and was additionally validated by inspection of the corresponding density plot, which shows that the two distributions shared relatively little trace of similarity as they parted ways slightly at the tail. However, the difference is not all that large by general standards, and local law enforcement practices or crime trends might be worth exploring before overselling the new attribution."
   ]
  },
  {
   "cell_type": "markdown",
   "metadata": {},
   "source": [
    "## 2. Seasonality of crime\n",
    "\n",
    "The theory of the seasonality of crime was proposed by Belgian statistician Adolphe Quetelet in 1842 and aspects of the theory continues to be under active investigation today ([Delgado and Sanchez-Delgado 2023]((https://pmc.ncbi.nlm.nih.gov/articles/PMC10231786/)),[Shiode et al. 2023](https://link.springer.com/article/10.1007/s43762-023-00094-x)). The theory posits that there is a relationship between hot weather (or seasons), and crime rates. (This theory was the start of \"moral science\" and much of Quetelet's work also played a key role in the origin of eugenics)\n",
    "\n",
    "Assuming our cases and arrests data can serve as proxies for crime, is there a relationship between seasonality and crime in Providence?"
   ]
  },
  {
   "cell_type": "markdown",
   "metadata": {},
   "source": [
    "# Thought Process:\n",
    "1. Data Preparation:\n",
    "2. categorize the months into seasons: Winter (December-February), Spring (March-May), Summer (June-August), and Fall (September-November).\n",
    "3. Mapthis categorization onto both arrests and cases datasets.\n",
    "4. Exploratory Data Visualization, Plot a bar chart comparing the counts of arrests and cases across seasons to visually identify patterns.\n",
    "5. Statistical Test: Performe a chi-square test of independence using a contingency table that relates arrests and cases by season. This test evaluates whether the distribution of crime across seasons is independent or shows a significant relationship."
   ]
  },
  {
   "cell_type": "markdown",
   "metadata": {},
   "source": [
    "## First, Data Preparation: \n",
    "Months were categorized into seasons: Winter (December-February), Spring (March-May), Summer (June-August), and Fall (September-November). This seasonal classification was applied to both the arrests and cases datasets to enable analysis of seasonal patterns in crime data."
   ]
  },
  {
   "cell_type": "code",
   "execution_count": 83,
   "metadata": {},
   "outputs": [],
   "source": [
    "# Convert date columns to Date format\n",
    "arrests_df$arrest_date <- as.Date(arrests_df$arrest_date)\n",
    "cases_df$reported_date <- as.Date(cases_df$reported_date)"
   ]
  },
  {
   "cell_type": "code",
   "execution_count": 85,
   "metadata": {},
   "outputs": [],
   "source": [
    "# Define a function to categorize months into seasons\n",
    "get_season <- function(month) {\n",
    "  if (month %in% c(12, 1, 2)) {\n",
    "    return(\"Winter\")\n",
    "  } else if (month %in% c(3, 4, 5)) {\n",
    "    return(\"Spring\")\n",
    "  } else if (month %in% c(6, 7, 8)) {\n",
    "    return(\"Summer\")\n",
    "  } else {\n",
    "    return(\"Fall\")\n",
    "  }\n",
    "}"
   ]
  },
  {
   "cell_type": "code",
   "execution_count": 91,
   "metadata": {},
   "outputs": [
    {
     "data": {
      "text/html": [
       "<table class=\"dataframe\">\n",
       "<caption>A data.frame: 6 × 19</caption>\n",
       "<thead>\n",
       "\t<tr><th></th><th scope=col>arrest_date</th><th scope=col>year</th><th scope=col>month</th><th scope=col>gender</th><th scope=col>race</th><th scope=col>ethnicity</th><th scope=col>year_of_birth</th><th scope=col>age</th><th scope=col>from_address</th><th scope=col>from_city</th><th scope=col>from_state</th><th scope=col>statute_type</th><th scope=col>statute_code</th><th scope=col>statute_desc</th><th scope=col>counts</th><th scope=col>case_number</th><th scope=col>arresting_officers</th><th scope=col>id</th><th scope=col>season</th></tr>\n",
       "\t<tr><th></th><th scope=col>&lt;date&gt;</th><th scope=col>&lt;int&gt;</th><th scope=col>&lt;int&gt;</th><th scope=col>&lt;chr&gt;</th><th scope=col>&lt;chr&gt;</th><th scope=col>&lt;chr&gt;</th><th scope=col>&lt;int&gt;</th><th scope=col>&lt;int&gt;</th><th scope=col>&lt;chr&gt;</th><th scope=col>&lt;chr&gt;</th><th scope=col>&lt;chr&gt;</th><th scope=col>&lt;chr&gt;</th><th scope=col>&lt;chr&gt;</th><th scope=col>&lt;chr&gt;</th><th scope=col>&lt;int&gt;</th><th scope=col>&lt;chr&gt;</th><th scope=col>&lt;chr&gt;</th><th scope=col>&lt;chr&gt;</th><th scope=col>&lt;chr&gt;</th></tr>\n",
       "</thead>\n",
       "<tbody>\n",
       "\t<tr><th scope=row>1</th><td>2019-08-24</td><td>2019</td><td>8</td><td>Male  </td><td>White</td><td>NonHispanic</td><td>1981</td><td>37</td><td>No Permanent Address</td><td>providence</td><td>Rhode Island</td><td>                    </td><td>        </td><td>                                                         </td><td>NA</td><td>2019-00084142</td><td> YGonzalez, LTaveras    </td><td>pvd2218242150382148273 </td><td>Summer</td></tr>\n",
       "\t<tr><th scope=row>2</th><td>2019-08-24</td><td>2019</td><td>8</td><td>      </td><td>     </td><td>           </td><td>1994</td><td>25</td><td>SUMMER AVE          </td><td>Cranston  </td><td>Rhode Island</td><td>RI Statute Violation</td><td>31-11-18</td><td>Driving after Denial, Suspension or Revocation of License</td><td> 1</td><td>2019-00084127</td><td> NManfredi              </td><td>pvd15166785558364246202</td><td>Summer</td></tr>\n",
       "\t<tr><th scope=row>3</th><td>2019-08-24</td><td>2019</td><td>8</td><td>Female</td><td>Black</td><td>NonHispanic</td><td>1984</td><td>34</td><td>DOUGLAS AVE         </td><td>Providence</td><td>Rhode Island</td><td>RI Statute Violation</td><td>12-7-10 </td><td>RESISTING LEGAL OR ILLEGAL ARREST                        </td><td> 1</td><td>2019-00084126</td><td> MPlace, JPerez, ASantos</td><td>pvd3142917706201385905 </td><td>Summer</td></tr>\n",
       "\t<tr><th scope=row>4</th><td>2019-08-24</td><td>2019</td><td>8</td><td>Female</td><td>Black</td><td>NonHispanic</td><td>1984</td><td>34</td><td>DOUGLAS AVE         </td><td>Providence</td><td>Rhode Island</td><td>RI Statute Violation</td><td>11-45-1 </td><td>DISORDERLY CONDUCT                                       </td><td> 1</td><td>2019-00084126</td><td> MPlace, JPerez, ASantos</td><td>pvd3142917706201385905 </td><td>Summer</td></tr>\n",
       "\t<tr><th scope=row>5</th><td>2019-08-24</td><td>2019</td><td>8</td><td>Female</td><td>Black</td><td>Unknown    </td><td>2001</td><td>18</td><td>TRASH ST            </td><td>          </td><td>            </td><td>RI Statute Violation</td><td>12-7-10 </td><td>RESISTING LEGAL OR ILLEGAL ARREST                        </td><td> 1</td><td>2019-00084126</td><td> MPlace, JPerez, ASantos</td><td>pvd460449304532374599  </td><td>Summer</td></tr>\n",
       "\t<tr><th scope=row>6</th><td>2019-08-24</td><td>2019</td><td>8</td><td>Female</td><td>Black</td><td>Unknown    </td><td>2001</td><td>18</td><td>TRASH ST            </td><td>          </td><td>            </td><td>RI Statute Violation</td><td>11-45-1 </td><td>DISORDERLY CONDUCT                                       </td><td> 1</td><td>2019-00084126</td><td> MPlace, JPerez, ASantos</td><td>pvd460449304532374599  </td><td>Summer</td></tr>\n",
       "</tbody>\n",
       "</table>\n"
      ],
      "text/latex": [
       "A data.frame: 6 × 19\n",
       "\\begin{tabular}{r|lllllllllllllllllll}\n",
       "  & arrest\\_date & year & month & gender & race & ethnicity & year\\_of\\_birth & age & from\\_address & from\\_city & from\\_state & statute\\_type & statute\\_code & statute\\_desc & counts & case\\_number & arresting\\_officers & id & season\\\\\n",
       "  & <date> & <int> & <int> & <chr> & <chr> & <chr> & <int> & <int> & <chr> & <chr> & <chr> & <chr> & <chr> & <chr> & <int> & <chr> & <chr> & <chr> & <chr>\\\\\n",
       "\\hline\n",
       "\t1 & 2019-08-24 & 2019 & 8 & Male   & White & NonHispanic & 1981 & 37 & No Permanent Address & providence & Rhode Island &                      &          &                                                           & NA & 2019-00084142 &  YGonzalez, LTaveras     & pvd2218242150382148273  & Summer\\\\\n",
       "\t2 & 2019-08-24 & 2019 & 8 &        &       &             & 1994 & 25 & SUMMER AVE           & Cranston   & Rhode Island & RI Statute Violation & 31-11-18 & Driving after Denial, Suspension or Revocation of License &  1 & 2019-00084127 &  NManfredi               & pvd15166785558364246202 & Summer\\\\\n",
       "\t3 & 2019-08-24 & 2019 & 8 & Female & Black & NonHispanic & 1984 & 34 & DOUGLAS AVE          & Providence & Rhode Island & RI Statute Violation & 12-7-10  & RESISTING LEGAL OR ILLEGAL ARREST                         &  1 & 2019-00084126 &  MPlace, JPerez, ASantos & pvd3142917706201385905  & Summer\\\\\n",
       "\t4 & 2019-08-24 & 2019 & 8 & Female & Black & NonHispanic & 1984 & 34 & DOUGLAS AVE          & Providence & Rhode Island & RI Statute Violation & 11-45-1  & DISORDERLY CONDUCT                                        &  1 & 2019-00084126 &  MPlace, JPerez, ASantos & pvd3142917706201385905  & Summer\\\\\n",
       "\t5 & 2019-08-24 & 2019 & 8 & Female & Black & Unknown     & 2001 & 18 & TRASH ST             &            &              & RI Statute Violation & 12-7-10  & RESISTING LEGAL OR ILLEGAL ARREST                         &  1 & 2019-00084126 &  MPlace, JPerez, ASantos & pvd460449304532374599   & Summer\\\\\n",
       "\t6 & 2019-08-24 & 2019 & 8 & Female & Black & Unknown     & 2001 & 18 & TRASH ST             &            &              & RI Statute Violation & 11-45-1  & DISORDERLY CONDUCT                                        &  1 & 2019-00084126 &  MPlace, JPerez, ASantos & pvd460449304532374599   & Summer\\\\\n",
       "\\end{tabular}\n"
      ],
      "text/markdown": [
       "\n",
       "A data.frame: 6 × 19\n",
       "\n",
       "| <!--/--> | arrest_date &lt;date&gt; | year &lt;int&gt; | month &lt;int&gt; | gender &lt;chr&gt; | race &lt;chr&gt; | ethnicity &lt;chr&gt; | year_of_birth &lt;int&gt; | age &lt;int&gt; | from_address &lt;chr&gt; | from_city &lt;chr&gt; | from_state &lt;chr&gt; | statute_type &lt;chr&gt; | statute_code &lt;chr&gt; | statute_desc &lt;chr&gt; | counts &lt;int&gt; | case_number &lt;chr&gt; | arresting_officers &lt;chr&gt; | id &lt;chr&gt; | season &lt;chr&gt; |\n",
       "|---|---|---|---|---|---|---|---|---|---|---|---|---|---|---|---|---|---|---|---|\n",
       "| 1 | 2019-08-24 | 2019 | 8 | Male   | White | NonHispanic | 1981 | 37 | No Permanent Address | providence | Rhode Island | <!----> | <!----> | <!----> | NA | 2019-00084142 |  YGonzalez, LTaveras     | pvd2218242150382148273  | Summer |\n",
       "| 2 | 2019-08-24 | 2019 | 8 | <!----> | <!----> | <!----> | 1994 | 25 | SUMMER AVE           | Cranston   | Rhode Island | RI Statute Violation | 31-11-18 | Driving after Denial, Suspension or Revocation of License |  1 | 2019-00084127 |  NManfredi               | pvd15166785558364246202 | Summer |\n",
       "| 3 | 2019-08-24 | 2019 | 8 | Female | Black | NonHispanic | 1984 | 34 | DOUGLAS AVE          | Providence | Rhode Island | RI Statute Violation | 12-7-10  | RESISTING LEGAL OR ILLEGAL ARREST                         |  1 | 2019-00084126 |  MPlace, JPerez, ASantos | pvd3142917706201385905  | Summer |\n",
       "| 4 | 2019-08-24 | 2019 | 8 | Female | Black | NonHispanic | 1984 | 34 | DOUGLAS AVE          | Providence | Rhode Island | RI Statute Violation | 11-45-1  | DISORDERLY CONDUCT                                        |  1 | 2019-00084126 |  MPlace, JPerez, ASantos | pvd3142917706201385905  | Summer |\n",
       "| 5 | 2019-08-24 | 2019 | 8 | Female | Black | Unknown     | 2001 | 18 | TRASH ST             | <!----> | <!----> | RI Statute Violation | 12-7-10  | RESISTING LEGAL OR ILLEGAL ARREST                         |  1 | 2019-00084126 |  MPlace, JPerez, ASantos | pvd460449304532374599   | Summer |\n",
       "| 6 | 2019-08-24 | 2019 | 8 | Female | Black | Unknown     | 2001 | 18 | TRASH ST             | <!----> | <!----> | RI Statute Violation | 11-45-1  | DISORDERLY CONDUCT                                        |  1 | 2019-00084126 |  MPlace, JPerez, ASantos | pvd460449304532374599   | Summer |\n",
       "\n"
      ],
      "text/plain": [
       "  arrest_date year month gender race  ethnicity   year_of_birth age\n",
       "1 2019-08-24  2019 8     Male   White NonHispanic 1981          37 \n",
       "2 2019-08-24  2019 8                              1994          25 \n",
       "3 2019-08-24  2019 8     Female Black NonHispanic 1984          34 \n",
       "4 2019-08-24  2019 8     Female Black NonHispanic 1984          34 \n",
       "5 2019-08-24  2019 8     Female Black Unknown     2001          18 \n",
       "6 2019-08-24  2019 8     Female Black Unknown     2001          18 \n",
       "  from_address         from_city  from_state   statute_type        \n",
       "1 No Permanent Address providence Rhode Island                     \n",
       "2 SUMMER AVE           Cranston   Rhode Island RI Statute Violation\n",
       "3 DOUGLAS AVE          Providence Rhode Island RI Statute Violation\n",
       "4 DOUGLAS AVE          Providence Rhode Island RI Statute Violation\n",
       "5 TRASH ST                                     RI Statute Violation\n",
       "6 TRASH ST                                     RI Statute Violation\n",
       "  statute_code statute_desc                                              counts\n",
       "1                                                                        NA    \n",
       "2 31-11-18     Driving after Denial, Suspension or Revocation of License  1    \n",
       "3 12-7-10      RESISTING LEGAL OR ILLEGAL ARREST                          1    \n",
       "4 11-45-1      DISORDERLY CONDUCT                                         1    \n",
       "5 12-7-10      RESISTING LEGAL OR ILLEGAL ARREST                          1    \n",
       "6 11-45-1      DISORDERLY CONDUCT                                         1    \n",
       "  case_number   arresting_officers       id                      season\n",
       "1 2019-00084142  YGonzalez, LTaveras     pvd2218242150382148273  Summer\n",
       "2 2019-00084127  NManfredi               pvd15166785558364246202 Summer\n",
       "3 2019-00084126  MPlace, JPerez, ASantos pvd3142917706201385905  Summer\n",
       "4 2019-00084126  MPlace, JPerez, ASantos pvd3142917706201385905  Summer\n",
       "5 2019-00084126  MPlace, JPerez, ASantos pvd460449304532374599   Summer\n",
       "6 2019-00084126  MPlace, JPerez, ASantos pvd460449304532374599   Summer"
      ]
     },
     "metadata": {},
     "output_type": "display_data"
    },
    {
     "data": {
      "text/html": [
       "<table class=\"dataframe\">\n",
       "<caption>A data.frame: 6 × 11</caption>\n",
       "<thead>\n",
       "\t<tr><th></th><th scope=col>casenumber</th><th scope=col>location</th><th scope=col>reported_date</th><th scope=col>month</th><th scope=col>year</th><th scope=col>offense_desc</th><th scope=col>statute_code</th><th scope=col>statute_desc</th><th scope=col>counts</th><th scope=col>reporting_officer</th><th scope=col>season</th></tr>\n",
       "\t<tr><th></th><th scope=col>&lt;chr&gt;</th><th scope=col>&lt;chr&gt;</th><th scope=col>&lt;date&gt;</th><th scope=col>&lt;int&gt;</th><th scope=col>&lt;int&gt;</th><th scope=col>&lt;chr&gt;</th><th scope=col>&lt;chr&gt;</th><th scope=col>&lt;chr&gt;</th><th scope=col>&lt;int&gt;</th><th scope=col>&lt;chr&gt;</th><th scope=col>&lt;chr&gt;</th></tr>\n",
       "</thead>\n",
       "<tbody>\n",
       "\t<tr><th scope=row>1</th><td>2019-00084162</td><td>1446 CHALKSTONE AVE</td><td>2019-08-24</td><td>8</td><td>2019</td><td>Vandalism           </td><td>11-44-1</td><td>VANDALISM/MALICIOUS INJURY TO PROPERTY          </td><td>1</td><td>SRomano  </td><td>Summer</td></tr>\n",
       "\t<tr><th scope=row>2</th><td>2019-00084157</td><td>100 GASPEE ST      </td><td>2019-08-24</td><td>8</td><td>2019</td><td>Assault, Simple     </td><td>11-5-3 </td><td>SIMPLE ASSAULT OR BATTERY                       </td><td>1</td><td>ADaCruz  </td><td>Summer</td></tr>\n",
       "\t<tr><th scope=row>3</th><td>2019-00084139</td><td>1137 BROAD ST      </td><td>2019-08-24</td><td>8</td><td>2019</td><td>Assault, Aggravated </td><td>11-5-2 </td><td>FELONY ASSAULT/ DANG. WEAPON OR SUBSTANCE       </td><td>3</td><td>MClary   </td><td>Summer</td></tr>\n",
       "\t<tr><th scope=row>4</th><td>2019-00084142</td><td>46 GESLER ST       </td><td>2019-08-24</td><td>8</td><td>2019</td><td>RI Statute Violation</td><td>12-9-16</td><td>WARRANT OF ARREST ON AFFIDAVIT - ALL OTH OFFENSE</td><td>1</td><td>LTaveras </td><td>Summer</td></tr>\n",
       "\t<tr><th scope=row>5</th><td>2019-00084127</td><td>1095 EDDY ST       </td><td>2019-08-24</td><td>8</td><td>2019</td><td>Traffic Violation   </td><td>31-3-32</td><td>Driving with Expired Registration               </td><td>1</td><td>NManfredi</td><td>Summer</td></tr>\n",
       "\t<tr><th scope=row>6</th><td>2019-00084126</td><td>60 HARTFORD AVE    </td><td>2019-08-24</td><td>8</td><td>2019</td><td>Disorderly Conduct  </td><td>11-45-1</td><td>DISORDERLY CONDUCT                              </td><td>3</td><td>MPlace   </td><td>Summer</td></tr>\n",
       "</tbody>\n",
       "</table>\n"
      ],
      "text/latex": [
       "A data.frame: 6 × 11\n",
       "\\begin{tabular}{r|lllllllllll}\n",
       "  & casenumber & location & reported\\_date & month & year & offense\\_desc & statute\\_code & statute\\_desc & counts & reporting\\_officer & season\\\\\n",
       "  & <chr> & <chr> & <date> & <int> & <int> & <chr> & <chr> & <chr> & <int> & <chr> & <chr>\\\\\n",
       "\\hline\n",
       "\t1 & 2019-00084162 & 1446 CHALKSTONE AVE & 2019-08-24 & 8 & 2019 & Vandalism            & 11-44-1 & VANDALISM/MALICIOUS INJURY TO PROPERTY           & 1 & SRomano   & Summer\\\\\n",
       "\t2 & 2019-00084157 & 100 GASPEE ST       & 2019-08-24 & 8 & 2019 & Assault, Simple      & 11-5-3  & SIMPLE ASSAULT OR BATTERY                        & 1 & ADaCruz   & Summer\\\\\n",
       "\t3 & 2019-00084139 & 1137 BROAD ST       & 2019-08-24 & 8 & 2019 & Assault, Aggravated  & 11-5-2  & FELONY ASSAULT/ DANG. WEAPON OR SUBSTANCE        & 3 & MClary    & Summer\\\\\n",
       "\t4 & 2019-00084142 & 46 GESLER ST        & 2019-08-24 & 8 & 2019 & RI Statute Violation & 12-9-16 & WARRANT OF ARREST ON AFFIDAVIT - ALL OTH OFFENSE & 1 & LTaveras  & Summer\\\\\n",
       "\t5 & 2019-00084127 & 1095 EDDY ST        & 2019-08-24 & 8 & 2019 & Traffic Violation    & 31-3-32 & Driving with Expired Registration                & 1 & NManfredi & Summer\\\\\n",
       "\t6 & 2019-00084126 & 60 HARTFORD AVE     & 2019-08-24 & 8 & 2019 & Disorderly Conduct   & 11-45-1 & DISORDERLY CONDUCT                               & 3 & MPlace    & Summer\\\\\n",
       "\\end{tabular}\n"
      ],
      "text/markdown": [
       "\n",
       "A data.frame: 6 × 11\n",
       "\n",
       "| <!--/--> | casenumber &lt;chr&gt; | location &lt;chr&gt; | reported_date &lt;date&gt; | month &lt;int&gt; | year &lt;int&gt; | offense_desc &lt;chr&gt; | statute_code &lt;chr&gt; | statute_desc &lt;chr&gt; | counts &lt;int&gt; | reporting_officer &lt;chr&gt; | season &lt;chr&gt; |\n",
       "|---|---|---|---|---|---|---|---|---|---|---|---|\n",
       "| 1 | 2019-00084162 | 1446 CHALKSTONE AVE | 2019-08-24 | 8 | 2019 | Vandalism            | 11-44-1 | VANDALISM/MALICIOUS INJURY TO PROPERTY           | 1 | SRomano   | Summer |\n",
       "| 2 | 2019-00084157 | 100 GASPEE ST       | 2019-08-24 | 8 | 2019 | Assault, Simple      | 11-5-3  | SIMPLE ASSAULT OR BATTERY                        | 1 | ADaCruz   | Summer |\n",
       "| 3 | 2019-00084139 | 1137 BROAD ST       | 2019-08-24 | 8 | 2019 | Assault, Aggravated  | 11-5-2  | FELONY ASSAULT/ DANG. WEAPON OR SUBSTANCE        | 3 | MClary    | Summer |\n",
       "| 4 | 2019-00084142 | 46 GESLER ST        | 2019-08-24 | 8 | 2019 | RI Statute Violation | 12-9-16 | WARRANT OF ARREST ON AFFIDAVIT - ALL OTH OFFENSE | 1 | LTaveras  | Summer |\n",
       "| 5 | 2019-00084127 | 1095 EDDY ST        | 2019-08-24 | 8 | 2019 | Traffic Violation    | 31-3-32 | Driving with Expired Registration                | 1 | NManfredi | Summer |\n",
       "| 6 | 2019-00084126 | 60 HARTFORD AVE     | 2019-08-24 | 8 | 2019 | Disorderly Conduct   | 11-45-1 | DISORDERLY CONDUCT                               | 3 | MPlace    | Summer |\n",
       "\n"
      ],
      "text/plain": [
       "  casenumber    location            reported_date month year\n",
       "1 2019-00084162 1446 CHALKSTONE AVE 2019-08-24    8     2019\n",
       "2 2019-00084157 100 GASPEE ST       2019-08-24    8     2019\n",
       "3 2019-00084139 1137 BROAD ST       2019-08-24    8     2019\n",
       "4 2019-00084142 46 GESLER ST        2019-08-24    8     2019\n",
       "5 2019-00084127 1095 EDDY ST        2019-08-24    8     2019\n",
       "6 2019-00084126 60 HARTFORD AVE     2019-08-24    8     2019\n",
       "  offense_desc         statute_code\n",
       "1 Vandalism            11-44-1     \n",
       "2 Assault, Simple      11-5-3      \n",
       "3 Assault, Aggravated  11-5-2      \n",
       "4 RI Statute Violation 12-9-16     \n",
       "5 Traffic Violation    31-3-32     \n",
       "6 Disorderly Conduct   11-45-1     \n",
       "  statute_desc                                     counts reporting_officer\n",
       "1 VANDALISM/MALICIOUS INJURY TO PROPERTY           1      SRomano          \n",
       "2 SIMPLE ASSAULT OR BATTERY                        1      ADaCruz          \n",
       "3 FELONY ASSAULT/ DANG. WEAPON OR SUBSTANCE        3      MClary           \n",
       "4 WARRANT OF ARREST ON AFFIDAVIT - ALL OTH OFFENSE 1      LTaveras         \n",
       "5 Driving with Expired Registration                1      NManfredi        \n",
       "6 DISORDERLY CONDUCT                               3      MPlace           \n",
       "  season\n",
       "1 Summer\n",
       "2 Summer\n",
       "3 Summer\n",
       "4 Summer\n",
       "5 Summer\n",
       "6 Summer"
      ]
     },
     "metadata": {},
     "output_type": "display_data"
    }
   ],
   "source": [
    "# Apply the function to classify seasons\n",
    "arrests_df$season <- sapply(arrests_df$month, get_season)\n",
    "cases_df$season <- sapply(cases_df$month, get_season)\n",
    "\n",
    "#Check \n",
    "head(arrests_df)\n",
    "head(cases_df)"
   ]
  },
  {
   "cell_type": "code",
   "execution_count": 96,
   "metadata": {},
   "outputs": [
    {
     "name": "stdout",
     "output_type": "stream",
     "text": [
      "\u001b[90m# A tibble: 4 × 2\u001b[39m\n",
      "  season Count\n",
      "  \u001b[3m\u001b[90m<chr>\u001b[39m\u001b[23m  \u001b[3m\u001b[90m<int>\u001b[39m\u001b[23m\n",
      "\u001b[90m1\u001b[39m Fall    \u001b[4m3\u001b[24m240\n",
      "\u001b[90m2\u001b[39m Spring  \u001b[4m2\u001b[24m582\n",
      "\u001b[90m3\u001b[39m Summer  \u001b[4m3\u001b[24m550\n",
      "\u001b[90m4\u001b[39m Winter  \u001b[4m3\u001b[24m640\n",
      "\u001b[90m# A tibble: 4 × 2\u001b[39m\n",
      "  season Count\n",
      "  \u001b[3m\u001b[90m<chr>\u001b[39m\u001b[23m  \u001b[3m\u001b[90m<int>\u001b[39m\u001b[23m\n",
      "\u001b[90m1\u001b[39m Fall   \u001b[4m1\u001b[24m\u001b[4m3\u001b[24m039\n",
      "\u001b[90m2\u001b[39m Spring  \u001b[4m8\u001b[24m259\n",
      "\u001b[90m3\u001b[39m Summer \u001b[4m1\u001b[24m\u001b[4m1\u001b[24m013\n",
      "\u001b[90m4\u001b[39m Winter  \u001b[4m9\u001b[24m073\n"
     ]
    }
   ],
   "source": [
    "# Count arrests and cases by season\n",
    "arrests_season <- arrests_df %>%\n",
    "  group_by(season) %>%\n",
    "  summarize(Count = n())\n",
    "\n",
    "cases_season <- cases_df %>%\n",
    "  group_by(season) %>%\n",
    "  summarize(Count = n())\n",
    "\n",
    "print(arrests_season)\n",
    "print (cases_season)"
   ]
  },
  {
   "cell_type": "code",
   "execution_count": 104,
   "metadata": {},
   "outputs": [
    {
     "name": "stdout",
     "output_type": "stream",
     "text": [
      "  Season Arrests Cases\n",
      "1 Winter    3240 13039\n",
      "2 Spring    2582  8259\n",
      "3 Summer    3550 11013\n",
      "4   Fall    3640  9073\n"
     ]
    }
   ],
   "source": [
    "# Merge the counts into a single data frame\n",
    "seasons <- c(\"Winter\", \"Spring\", \"Summer\", \"Fall\")\n",
    "arrests_counts <- c(arrests_season$Count)\n",
    "cases_counts <- c(cases_season$Count)\n",
    "\n",
    "# Combine counts into a single data frame\n",
    "seasonality_df <- data.frame(\n",
    "  Season = seasons,\n",
    "  Arrests = arrests_counts,\n",
    "  Cases = cases_counts\n",
    ")\n",
    "\n",
    "print(seasonality_df)"
   ]
  },
  {
   "cell_type": "markdown",
   "metadata": {},
   "source": [
    "## Visualization \n",
    "For visualization, I will generate a bar plot for both cases and arrest by season. \n",
    "1. A bar chart showing the count of arrests by season.\n",
    "2. A bar chart showing the count of cases by season."
   ]
  },
  {
   "cell_type": "code",
   "execution_count": 128,
   "metadata": {},
   "outputs": [
    {
     "data": {
      "image/png": "[encoded data removed]",
      "text/plain": [
       "plot without title"
      ]
     },
     "metadata": {
      "image/png": {
       "height": 420,
       "width": 420
      }
     },
     "output_type": "display_data"
    },
    {
     "data": {
      "image/png": "[encoded data removed]",
      "text/plain": [
       "plot without title"
      ]
     },
     "metadata": {
      "image/png": {
       "height": 420,
       "width": 420
      }
     },
     "output_type": "display_data"
    }
   ],
   "source": [
    "# Arrests Plot \n",
    "arrests_plot <- ggplot(seasonality_df, aes(x = Season, y = Arrests)) +\n",
    "  geom_bar(stat = \"identity\", fill = \"blue\", alpha = 0.7) +\n",
    "  labs(title = \"Seasonality of Arrests in Providence\",\n",
    "       x = \"Season\",\n",
    "       y = \"Count\")\n",
    "\n",
    "# Cases plot\n",
    "cases_plot <- ggplot(seasonality_df, aes(x = Season, y = Cases)) +\n",
    "  geom_bar(stat = \"identity\", fill = \"red\", alpha = 0.7) +\n",
    "  labs(title = \"Seasonality of Cases in Providence\",\n",
    "       x = \"Season\",\n",
    "       y = \"Count\")\n",
    "\n",
    "print(arrests_plot) \n",
    "print(cases_plot)"
   ]
  },
  {
   "cell_type": "markdown",
   "metadata": {},
   "source": [
    "The data suggests a relationship between seasonality and crime in Providence, with cases showing a pronounced increase in Summer and Winter, while arrests are relatively stable but slightly higher in Winter and Summer. \n",
    "\n",
    "This indicates that crime rates, as represented by cases and arrests, are influenced by seasonal factors, such as weather and social behaviors. The stronger seasonality in cases compared to arrests may reflect differences in reporting or law enforcement activity. Overall, the findings support the hypothesis that crime varies by season."
   ]
  },
  {
   "cell_type": "markdown",
   "metadata": {},
   "source": [
    "## **Chi-Squared Test** \n",
    "Two test relationship between season and crime in providence I will use the Chi-Square Test. The Chi-square test is used to determine whether there is a significant relationship between two categorical variables: the seasons and the counts of arrests and cases."
   ]
  },
  {
   "cell_type": "code",
   "execution_count": 134,
   "metadata": {},
   "outputs": [
    {
     "name": "stdout",
     "output_type": "stream",
     "text": [
      "               Fall Spring Summer Winter\n",
      "arrest_counts  3240   2582   3550   3640\n",
      "case_counts   13039   8259  11013   9073\n"
     ]
    }
   ],
   "source": [
    "# Aggregate arrests by season\n",
    "arrest_counts <- table(arrests_df$season)\n",
    "\n",
    "# Aggregate cases by season\n",
    "case_counts <- table(cases_df$season)\n",
    "\n",
    "# Combine into a contingency table\n",
    "contingency_table <- rbind(arrest_counts, case_counts)\n",
    "\n",
    "print(contingency_table)"
   ]
  },
  {
   "cell_type": "code",
   "execution_count": 136,
   "metadata": {},
   "outputs": [
    {
     "name": "stdout",
     "output_type": "stream",
     "text": [
      "\n",
      "\tPearson's Chi-squared test\n",
      "\n",
      "data:  contingency_table\n",
      "X-squared = 301.19, df = 3, p-value < 2.2e-16\n",
      "\n"
     ]
    }
   ],
   "source": [
    "# Perform the Chi-square test\n",
    "chi_test_result <- chisq.test(contingency_table)\n",
    "print(chi_test_result)"
   ]
  },
  {
   "cell_type": "markdown",
   "metadata": {},
   "source": [
    "The Chi-square test results indicate a highly significant relationship between seasonality and crime in Providence. The extremely small p-value (almost zero) suggests that the observed seasonal variations in arrests and cases are unlikely to be due to chance, supporting the hypothesis that crime rates are influenced by seasonal factors."
   ]
  },
  {
   "cell_type": "markdown",
   "metadata": {},
   "source": [
    "# **Conclusion**\n",
    "Based on the visualizations and the Chi-square test, we can conclude that there is a significant relationship between seasonality and crime in Providence. The visualizations show clear seasonal patterns, with arrests slightly higher in Winter and Summer and cases peaking in Winter and Summer while being lowest in Spring. The Chi-square test confirms this relationship statistically, with a highly significant p-value, indicating that the observed seasonal differences in arrests and cases are not due to random chance. Together, these findings support the hypothesis that crime rates are influenced by seasonal factors."
   ]
  },
  {
   "cell_type": "markdown",
   "metadata": {},
   "source": [
    "## 3. Crime rate drops during the pandemic\n",
    "\n",
    "A study published in Nature Human Behaviour found that urban crime fell by over a third around the world during COVID-19 shutdowns. [(Nivette et al. 2021)](https://www.nature.com/articles/s41562-021-01139-z) [(press publication)](https://www.cam.ac.uk/stories/COVIDcrime). Making the same assumption with our data again, assess whether crime fell in Providence during COVID-19 shutdowns.\n",
    "\n",
    "Note: you cannot simply count up the number of arrests or cases for each year and compare between years! If you are wondering why, check the time range of your data."
   ]
  },
  {
   "cell_type": "markdown",
   "metadata": {},
   "source": [
    "# Thought Process\n",
    "To assess whether crime fell during the COVID-19 shutdowns in Providence, we will:\n",
    "\n",
    "1. Focus on specific time periods: Pre-COVID (before March 2020) and COVID (March 2020 onward).\n",
    "2. Normalize the data by adjusting for the number of days in each time period to account for unequal durations.\n",
    "3. Compare the average daily crime rates (arrests and cases) during these periods.\n",
    "4. Use a statistical test (e.g., t-test) to determine if the observed differences are significant."
   ]
  },
  {
   "cell_type": "markdown",
   "metadata": {},
   "source": [
    "## First, Preparing the Data\n",
    "I will filter the data into two periods (pre-COVID and during COVID) and calculate the daily crime rates for each period."
   ]
  },
  {
   "cell_type": "code",
   "execution_count": 149,
   "metadata": {},
   "outputs": [],
   "source": [
    "# Define COVID cutoff date (March 2020) since that is when Covid (pandemic) started \n",
    "covid_start_date <- as.Date(\"2020-03-01\")"
   ]
  },
  {
   "cell_type": "code",
   "execution_count": 150,
   "metadata": {},
   "outputs": [],
   "source": [
    "# Split data into pre-COVID and COVID periods for both cases and arrests \n",
    "arrests_pre_covid <- arrests_df %>% filter(arrest_date < covid_start_date)\n",
    "arrests_covid <- arrests_df %>% filter(arrest_date >= covid_start_date)\n",
    "\n",
    "cases_pre_covid <- cases_df %>% filter(reported_date < covid_start_date)\n",
    "cases_covid <- cases_df %>% filter(reported_date >= covid_start_date)"
   ]
  },
  {
   "cell_type": "code",
   "execution_count": 159,
   "metadata": {},
   "outputs": [],
   "source": [
    "# Calculate the total number of days in each period\n",
    "#he difftime() function in R calculates the difference between two date or time values and returns the result as a time difference object. This function is particularly useful for determining the duration between dates or times in various units.\n",
    "pre_covid_days <- as.numeric(difftime(covid_start_date, min(arrests_df$arrest_date)))\n",
    "covid_days <- as.numeric(difftime(max(arrests_df$arrest_date), covid_start_date))\n",
    "\n",
    "# Calculate average daily crime rates\n",
    "arrests_rate_pre_covid <- nrow(arrests_pre_covid) / pre_covid_days\n",
    "arrests_rate_covid <- nrow(arrests_covid) / covid_days\n",
    "\n",
    "cases_rate_pre_covid <- nrow(cases_pre_covid) / pre_covid_days\n",
    "cases_rate_covid <- nrow(cases_covid) / covid_days"
   ]
  },
  {
   "cell_type": "code",
   "execution_count": 161,
   "metadata": {},
   "outputs": [
    {
     "data": {
      "text/html": [
       "24.1171548117155"
      ],
      "text/latex": [
       "24.1171548117155"
      ],
      "text/markdown": [
       "24.1171548117155"
      ],
      "text/plain": [
       "[1] 24.11715"
      ]
     },
     "metadata": {},
     "output_type": "display_data"
    },
    {
     "data": {
      "text/html": [
       "12.5181347150259"
      ],
      "text/latex": [
       "12.5181347150259"
      ],
      "text/markdown": [
       "12.5181347150259"
      ],
      "text/plain": [
       "[1] 12.51813"
      ]
     },
     "metadata": {},
     "output_type": "display_data"
    }
   ],
   "source": [
    "arrests_rate_pre_covid \n",
    "arrests_rate_covid "
   ]
  },
  {
   "cell_type": "markdown",
   "metadata": {},
   "source": [
    "The average daily arrest rate in Providence decreased significantly during the COVID-19 period. Before the pandemic, the rate was 24.12 arrests per day, but during COVID-19, it dropped to 12.52 arrests per day. This represents a substantial decline, highlighting the impact of pandemic-related restrictions on crime and law enforcement activities."
   ]
  },
  {
   "cell_type": "code",
   "execution_count": 162,
   "metadata": {},
   "outputs": [
    {
     "data": {
      "text/html": [
       "59.7238493723849"
      ],
      "text/latex": [
       "59.7238493723849"
      ],
      "text/markdown": [
       "59.7238493723849"
      ],
      "text/plain": [
       "[1] 59.72385"
      ]
     },
     "metadata": {},
     "output_type": "display_data"
    },
    {
     "data": {
      "text/html": [
       "46.8221070811744"
      ],
      "text/latex": [
       "46.8221070811744"
      ],
      "text/markdown": [
       "46.8221070811744"
      ],
      "text/plain": [
       "[1] 46.82211"
      ]
     },
     "metadata": {},
     "output_type": "display_data"
    }
   ],
   "source": [
    "cases_rate_pre_covid \n",
    "cases_rate_covid "
   ]
  },
  {
   "cell_type": "markdown",
   "metadata": {},
   "source": [
    "The average daily case rate in Providence decreased during the COVID-19 period. Before the pandemic, the rate was 59.72 cases per day, while during COVID-19, it dropped to 46.82 cases per day. This represents a moderate decline, indicating fewer cases were reported daily during the pandemic compared to the pre-COVID period."
   ]
  },
  {
   "cell_type": "markdown",
   "metadata": {},
   "source": [
    "## **Visualization**"
   ]
  },
  {
   "cell_type": "code",
   "execution_count": 164,
   "metadata": {},
   "outputs": [
    {
     "name": "stdout",
     "output_type": "stream",
     "text": [
      "     Period  Arrests    Cases\n",
      "1 Pre-COVID 24.11715 59.72385\n",
      "2     COVID 12.51813 46.82211\n"
     ]
    }
   ],
   "source": [
    "# Combine into a data frame for visualization\n",
    "crime_rates <- data.frame(\n",
    "  Period = c(\"Pre-COVID\", \"COVID\"),\n",
    "  Arrests = c(arrests_rate_pre_covid, arrests_rate_covid),\n",
    "  Cases = c(cases_rate_pre_covid, cases_rate_covid)\n",
    ")\n",
    "print(crime_rates)"
   ]
  },
  {
   "cell_type": "code",
   "execution_count": 167,
   "metadata": {},
   "outputs": [
    {
     "data": {
      "image/png": "[encoded data removed]",
      "text/plain": [
       "plot without title"
      ]
     },
     "metadata": {
      "image/png": {
       "height": 420,
       "width": 420
      }
     },
     "output_type": "display_data"
    }
   ],
   "source": [
    "# Reshape the data to long format\n",
    "crime_rates_long <- pivot_longer(crime_rates, cols = c(\"Arrests\", \"Cases\"), names_to = \"Category\", values_to = \"Rate\")\n",
    "\n",
    "# Create the bar chart\n",
    "ggplot(crime_rates_long, aes(x = Period, y = Rate, fill = Category)) +\n",
    "  geom_bar(stat = \"identity\", position = \"dodge\") +\n",
    "  labs(title = \"Average Daily Crime Rates Before and During COVID-19\",\n",
    "       x = \"Period\",\n",
    "       y = \"Average Daily Rate\")"
   ]
  },
  {
   "cell_type": "markdown",
   "metadata": {},
   "source": [
    "The bar chart illustrates the average daily crime rates for arrests and cases in Providence before and during the COVID-19 pandemic. It shows that both categories experienced a decline during the pandemic. The average daily arrest rate dropped significantly, nearly halving from the pre-COVID period to the COVID period. Similarly, the average daily case rate decreased, though the reduction was less pronounced compared to arrests. The chart highlights a clear distinction between the two periods, suggesting a general reduction in crime-related activities during the pandemic."
   ]
  },
  {
   "cell_type": "markdown",
   "metadata": {},
   "source": [
    "## Statistical Test\n",
    "Use a two-sample t-test to assess whether the average daily crime rates differ significantly between the pre-COVID and COVID periods.\n",
    "\n",
    "The t-test compares the average daily crime rates (numeric data) between two periods: pre-COVID and COVID. The goal is to determine whether the observed differences in crime rates are statistically significant or could have occurred by chance. By calculating daily counts for arrests and cases, we ensure the data is numeric and represents the distribution of crime rates."
   ]
  },
  {
   "cell_type": "code",
   "execution_count": 172,
   "metadata": {},
   "outputs": [],
   "source": [
    "# Calculate daily crime rates for arrests\n",
    "arrests_daily_pre_covid <- arrests_pre_covid %>%\n",
    "  group_by(arrest_date) %>%\n",
    "  summarize(daily_count = n())\n",
    "\n",
    "arrests_daily_covid <- arrests_covid %>%\n",
    "  group_by(arrest_date) %>%\n",
    "  summarize(daily_count = n())\n",
    "\n",
    "# Calculate daily crime rates for cases\n",
    "cases_daily_pre_covid <- cases_pre_covid %>%\n",
    "  group_by(reported_date) %>%\n",
    "  summarize(daily_count = n())\n",
    "\n",
    "cases_daily_covid <- cases_covid %>%\n",
    "  group_by(reported_date) %>%\n",
    "  summarize(daily_count = n())\n"
   ]
  },
  {
   "cell_type": "code",
   "execution_count": 173,
   "metadata": {},
   "outputs": [
    {
     "name": "stdout",
     "output_type": "stream",
     "text": [
      "\n",
      "\tWelch Two Sample t-test\n",
      "\n",
      "data:  arrests_daily_pre_covid$daily_count and arrests_daily_covid$daily_count\n",
      "t = 15.12, df = 316.93, p-value < 2.2e-16\n",
      "alternative hypothesis: true difference in means is not equal to 0\n",
      "95 percent confidence interval:\n",
      " 10.08970 13.10834\n",
      "sample estimates:\n",
      "mean of x mean of y \n",
      " 24.11715  12.51813 \n",
      "\n",
      "\n",
      "\tWelch Two Sample t-test\n",
      "\n",
      "data:  cases_daily_pre_covid$daily_count and cases_daily_covid$daily_count\n",
      "t = 20.232, df = 331.16, p-value < 2.2e-16\n",
      "alternative hypothesis: true difference in means is not equal to 0\n",
      "95 percent confidence interval:\n",
      " 20.30558 24.67938\n",
      "sample estimates:\n",
      "mean of x mean of y \n",
      " 69.97059  47.47811 \n",
      "\n"
     ]
    }
   ],
   "source": [
    "# Perform t-tests for arrests\n",
    "arrests_t_test <- t.test(arrests_daily_pre_covid$daily_count, arrests_daily_covid$daily_count)\n",
    "\n",
    "# Perform t-tests for cases\n",
    "cases_t_test <- t.test(cases_daily_pre_covid$daily_count, cases_daily_covid$daily_count)\n",
    "\n",
    "# Print the results\n",
    "print(arrests_t_test)\n",
    "print(cases_t_test)\n"
   ]
  },
  {
   "cell_type": "markdown",
   "metadata": {},
   "source": [
    "The average daily arrest rate dropped from 24.12 24.12 arrests per day before the pandemic to 12.52 12.52 arrests per day during the pandemic. The 95% confidence interval ( 10.09 , 13.11 10.09,13.11) confirms a meaningful reduction in arrests, reflecting a substantial impact of the pandemic on law enforcement activities and crime levels.\n",
    "\n",
    "The average daily case rate fell from 69.97 69.97 cases per day to 47.48 47.48 cases per day. The 95% confidence interval ( 20.31 , 24.68 20.31,24.68) confirms this decrease, highlighting a notable reduction in reported cases during the pandemic, likely influenced by reduced activity levels and possible reporting delays."
   ]
  },
  {
   "cell_type": "markdown",
   "metadata": {},
   "source": [
    "# **Conclusion**\n",
    "Crime rates in Providence have been notably lower during the COVID-19 pandemic, as supported by both visual analysis and statistical tests. The bar chart shows significant reductions in arrests and reported cases during the pandemic as compared to pre-COVID. \n",
    "\n",
    "Statistical tests using Welch Two Sample t-tests corroborate these observations, showing that the differences in daily averages are significant for both categories of events. The number of arrests fell from a mean of 24.12 per day before COVID to 12.52 per day during COVID, and cases dropped from a mean of 69.97 per day to 47.48 per day. This finding suggests that the pandemic had a strong effect on crime, potentially through restrictions to movement and social interactions and changes in how law enforcement was carried out."
   ]
  },
  {
   "cell_type": "markdown",
   "metadata": {},
   "source": [
    "## 4. Outlier data\n",
    "\n",
    "In our data, December 2019 and January 2020 seem to have an unusually high number of arrests without a corresponding spike in cases. Is there actually a significant difference between arrests in that time period and other time periods? Explore the data and come up with some hypotheses around the spike."
   ]
  },
  {
   "cell_type": "markdown",
   "metadata": {},
   "source": [
    "## Thought Process:\n",
    "1. Define Time Periods: Compare the arrests in December 2019 and January 2020 (outlier period) with the rest of the data.\n",
    "2. Statistical Approach:Calculate daily arrest rates for the outlier period and the rest of the data. Use a statistical test (e.g., t-test) to assess whether the difference in daily arrest rates is significant.\n",
    "3. Exploratory Visualization:Create a bar plot comparing daily arrest rates in the outlier period and other periods.\n",
    "\n",
    "Hypothesis:\n",
    "* Null Hypothesis (H₀): There is no significant difference in daily arrest rates between the outlier period and other time periods.\n",
    "* Alternative Hypothesis (H₁): The daily arrest rates in the outlier period are significantly different from those in other time periods.\n"
   ]
  },
  {
   "cell_type": "markdown",
   "metadata": {},
   "source": [
    "### Filter and group the data to calculate daily arrest rates."
   ]
  },
  {
   "cell_type": "code",
   "execution_count": 177,
   "metadata": {},
   "outputs": [],
   "source": [
    "# Filter data for December 2019 and January 2020\n",
    "outlier_period <- arrests_df %>%\n",
    "  filter(arrest_date >= as.Date(\"2019-12-01\") & arrest_date <= as.Date(\"2020-01-31\"))\n",
    "\n",
    "# Filter data for all other periods\n",
    "other_period <- arrests_df %>%\n",
    "  filter(arrest_date < as.Date(\"2019-12-01\") | arrest_date > as.Date(\"2020-01-31\"))\n",
    "\n",
    "# Calculate daily arrest rates for each period\n",
    "outlier_daily <- outlier_period %>%\n",
    "  group_by(arrest_date) %>%\n",
    "  summarize(daily_count = n())\n",
    "\n",
    "other_daily <- other_period %>%\n",
    "  group_by(arrest_date) %>%\n",
    "  summarize(daily_count = n())\n"
   ]
  },
  {
   "cell_type": "markdown",
   "metadata": {},
   "source": [
    "## **Statistical Test**\n",
    "Use a t-test to compare daily arrest rates."
   ]
  },
  {
   "cell_type": "code",
   "execution_count": 179,
   "metadata": {},
   "outputs": [
    {
     "name": "stdout",
     "output_type": "stream",
     "text": [
      "\n",
      "\tWelch Two Sample t-test\n",
      "\n",
      "data:  outlier_daily$daily_count and other_daily$daily_count\n",
      "t = 10.328, df = 63.726, p-value = 3.067e-15\n",
      "alternative hypothesis: true difference in means is not equal to 0\n",
      "95 percent confidence interval:\n",
      " 15.70513 23.23889\n",
      "sample estimates:\n",
      "mean of x mean of y \n",
      " 33.90323  14.43122 \n",
      "\n"
     ]
    }
   ],
   "source": [
    "t_test_result <- t.test(outlier_daily$daily_count, other_daily$daily_count)\n",
    "\n",
    "# Print the results\n",
    "print(t_test_result)"
   ]
  },
  {
   "cell_type": "markdown",
   "metadata": {},
   "source": [
    "The extremely small p-value (< 0.05) strongly suggests that the daily arrest rates during the outlier period are significantly higher compared to other periods. This result confirms that the spike in arrests during December 2019 and January 2020 is not due to random variation and warrants further investigation into potential causes. Let me know if you'd like to explore hypotheses or visualize the data! ​"
   ]
  },
  {
   "cell_type": "markdown",
   "metadata": {},
   "source": [
    "## **Visualization**\n",
    "Create a bar chart comparing the daily arrest rates."
   ]
  },
  {
   "cell_type": "code",
   "execution_count": 180,
   "metadata": {},
   "outputs": [
    {
     "data": {
      "image/png": "[encoded data removed]",
      "text/plain": [
       "plot without title"
      ]
     },
     "metadata": {
      "image/png": {
       "height": 420,
       "width": 420
      }
     },
     "output_type": "display_data"
    }
   ],
   "source": [
    "# Combine data for visualization\n",
    "outlier_daily$Period <- \"Outlier (Dec 2019 - Jan 2020)\"\n",
    "other_daily$Period <- \"Other Periods\"\n",
    "combined_data <- rbind(outlier_daily, other_daily)\n",
    "\n",
    "# Create the bar chart\n",
    "ggplot(combined_data, aes(x = Period, y = daily_count, fill = Period)) +\n",
    "  geom_bar(stat = \"summary\", fun = \"mean\", position = \"dodge\") +\n",
    "  labs(title = \"Comparison of Daily Arrest Rates\",\n",
    "       x = \"Period\",\n",
    "       y = \"Average Daily Arrest Rate\") "
   ]
  },
  {
   "cell_type": "markdown",
   "metadata": {},
   "source": [
    "The chart highlights a significant spike in daily arrest rates during December 2019 and January 2020 compared to other periods. This confirms the outlier nature of this time frame and suggests the need for further investigation into potential causes, such as increased enforcement, specific incidents, or seasonal effects."
   ]
  },
  {
   "cell_type": "markdown",
   "metadata": {},
   "source": [
    "# **Conclusion** \n",
    "The analysis for Question 4 concludes that there is a statistically significant and visually apparent spike in daily arrest rates during the outlier period (December 2019 - January 2020) compared to other time periods. The statistical test (t-test) confirms that the difference is highly significant ( 𝑝 < 0.05), and the visualizations illustrate that the average daily arrest rate during the outlier period exceeds 30 arrests per day, compared to approximately 10 arrests per day in other periods. This significant increase suggests that December 2019 and January 2020 are outliers, potentially caused by factors such as increased law enforcement activity, specific policies, seasonal effects like holiday-related incidents, or data anomalies. Further investigation into the specific events or policies during this period is recommended to understand the root cause of the spike."
   ]
  },
  {
   "cell_type": "markdown",
   "metadata": {},
   "source": [
    "## 5. Coming up with your own question\n",
    "\n",
    "Come up with your own question with regards to the data, and answer it with a statistical test and visualization based on what we have learned so far. What followup questions does your answer generate?"
   ]
  },
  {
   "cell_type": "markdown",
   "metadata": {},
   "source": [
    "# **Is there a significant difference in the number of arrests between weekdays and weekends in the dataset?**\n",
    "\n",
    "Hypothesis:\n",
    "\n",
    "* Null Hypothesis (H0): There is no significant difference in the number of arrests between weekdays and weekends.\n",
    "* Alternative Hypothesis (H1): There is a significant difference in the number of arrests between weekdays and weekends."
   ]
  },
  {
   "cell_type": "markdown",
   "metadata": {},
   "source": [
    "## First, Data Preparation \n",
    "Categorize the arrest dates as weekdays or weekends and calculate the normalized arrest rates."
   ]
  },
  {
   "cell_type": "code",
   "execution_count": 184,
   "metadata": {},
   "outputs": [],
   "source": [
    "# Add a 'day_type' column for Weekday/Weekend classification\n",
    "arrests_df <- arrests_df %>%\n",
    "  mutate(day_type = ifelse(wday(arrest_date) %in% c(1, 7), \"Weekend\", \"Weekday\"))\n",
    "\n",
    "# Count the number of unique weekdays and weekends\n",
    "weekday_days <- arrests_df %>%\n",
    "  filter(day_type == \"Weekday\") %>%\n",
    "  distinct(arrest_date) %>%\n",
    "  nrow()\n",
    "\n",
    "weekend_days <- arrests_df %>%\n",
    "  filter(day_type == \"Weekend\") %>%\n",
    "  distinct(arrest_date) %>%\n",
    "  nrow()\n",
    "\n",
    "# Calculate total arrests for weekdays and weekends\n",
    "weekday_total <- arrests_df %>%\n",
    "  filter(day_type == \"Weekday\") %>%\n",
    "  nrow()\n",
    "\n",
    "weekend_total <- arrests_df %>%\n",
    "  filter(day_type == \"Weekend\") %>%\n",
    "  nrow()\n",
    "\n",
    "# Normalize arrest rates by dividing total arrests by the number of days\n",
    "weekday_rate <- weekday_total / weekday_days\n",
    "weekend_rate <- weekend_total / weekend_days"
   ]
  },
  {
   "cell_type": "markdown",
   "metadata": {},
   "source": [
    "## Statistical Test\n",
    "Perform a t-test on daily arrest counts for weekdays and weekends."
   ]
  },
  {
   "cell_type": "code",
   "execution_count": 186,
   "metadata": {},
   "outputs": [
    {
     "name": "stdout",
     "output_type": "stream",
     "text": [
      "\n",
      "\tWelch Two Sample t-test\n",
      "\n",
      "data:  weekday_counts and weekend_counts\n",
      "t = -0.36352, df = 418.62, p-value = 0.7164\n",
      "alternative hypothesis: true difference in means is not equal to 0\n",
      "95 percent confidence interval:\n",
      " -1.792631  1.233066\n",
      "sample estimates:\n",
      "mean of x mean of y \n",
      " 15.82705  16.10684 \n",
      "\n"
     ]
    }
   ],
   "source": [
    "# Calculate daily counts for weekdays and weekends\n",
    "weekday_counts <- arrests_df %>%\n",
    "  filter(day_type == \"Weekday\") %>%\n",
    "  group_by(arrest_date) %>%\n",
    "  summarize(daily_count = n()) %>%\n",
    "  pull(daily_count)\n",
    "\n",
    "weekend_counts <- arrests_df %>%\n",
    "  filter(day_type == \"Weekend\") %>%\n",
    "  group_by(arrest_date) %>%\n",
    "  summarize(daily_count = n()) %>%\n",
    "  pull(daily_count)\n",
    "\n",
    "# Perform the t-test\n",
    "t_test_result <- t.test(weekday_counts, weekend_counts)\n",
    "\n",
    "# Print the results\n",
    "print(t_test_result)\n"
   ]
  },
  {
   "cell_type": "markdown",
   "metadata": {},
   "source": [
    "There is no significant difference in the number of arrests between weekdays and weekends in this dataset. This suggests that arrests are distributed relatively evenly across the week without noticeable spikes on weekends or weekdays."
   ]
  },
  {
   "cell_type": "markdown",
   "metadata": {},
   "source": [
    "## Visualization \n",
    "Create a bar plot comparing normalized arrest rates for weekdays and weekends."
   ]
  },
  {
   "cell_type": "code",
   "execution_count": 187,
   "metadata": {},
   "outputs": [
    {
     "data": {
      "image/png": "[encoded data removed]",
      "text/plain": [
       "plot without title"
      ]
     },
     "metadata": {
      "image/png": {
       "height": 420,
       "width": 420
      }
     },
     "output_type": "display_data"
    }
   ],
   "source": [
    "# Create a data frame for visualization\n",
    "rates_df <- data.frame(\n",
    "  Day_Type = c(\"Weekday\", \"Weekend\"),\n",
    "  Arrest_Rate = c(weekday_rate, weekend_rate)\n",
    ")\n",
    "\n",
    "# Create the bar plot\n",
    "ggplot(rates_df, aes(x = Day_Type, y = Arrest_Rate, fill = Day_Type)) +\n",
    "  geom_bar(stat = \"identity\", width = 0.5) +\n",
    "  labs(title = \"Normalized Arrest Rates: Weekdays vs. Weekends\",\n",
    "       x = \"Day Type\",\n",
    "       y = \"Arrest Rate (Average Daily)\") "
   ]
  },
  {
   "cell_type": "markdown",
   "metadata": {},
   "source": [
    "# **Conclusion** \n",
    "This analysis shows there is no statistically significant difference between weekdays and weekends' averages for the amount of arrests. The Welch Two Sample t-test yielded a p-value of (0.7164), well above the conventional threshold of (0.05) for significance, which implies that the mean arrests per day on weekdays (15.83) and weekends (16.11) are meaningfully correct. The confidence interval (-1.79, 1.23), which contains zero, gives us the necessary assurance that any observed differences are due to random variation and not a true difference.\n",
    "\n",
    "The bar chart that shows normalized weekday and weekend arrest rates provides visual support for this conclusion. In fact, the average number of arrests per day for both time periods is almost the same; neither category seems to have any glaring spikes or differences. This uniformity implies that arrests occur evenly distributed across the week, with no particular day (weekday or weekend) contributing significantly more activity.\n",
    "\n",
    "The statistical test and visualization are consistent in confirming that the arrests for this dataset are evenly distributed across weekdays and weekends. This result suggests that the day of the week does not affect arrest counts according to this data."
   ]
  },
  {
   "cell_type": "markdown",
   "metadata": {
    "vscode": {
     "languageId": "r"
    }
   },
   "source": [
    "## Extra credit 1 (5 pts)\n",
    "\n",
    "There is a lot of missing data in the `cases` and `arrests` dataframes. Often a question that comes up with missing data is whether it is missing at random or systematically. ([Little 1986](https://www.tandfonline.com/doi/abs/10.1080/01621459.1988.10478722)) describes a statistical test to test for whether data is missing completely at random or not. Apply the test to our data and provide your assessment of whether the data is missing or not."
   ]
  },
  {
   "cell_type": "markdown",
   "metadata": {},
   "source": [
    "## Extra credit 2 (5 pts)\n",
    "\n",
    "Although we use our data to answer the questions above, it is almost certainly not the best source of data to use, just what we have available to us through public records. The field of criminology and how to define crime additionally has [fraught history](https://www.bu.edu/bulawreview/files/2020/05/02-SIMON.pdf) and [modern controversies](https://www.theguardian.com/us-news/2021/nov/07/lapd-predictive-policing-surveillance-reform) rooted in structural and political issues. What are some of the potential problems with our data for answering these questions besides missingness? What are assumptions made and potential issues with some of the questions asked in this homework?"
   ]
  },
  {
   "cell_type": "markdown",
   "metadata": {},
   "source": []
  }
 ],
 "metadata": {
  "kernelspec": {
   "display_name": "R",
   "language": "R",
   "name": "ir"
  },
  "language_info": {
   "codemirror_mode": "r",
   "file_extension": ".r",
   "mimetype": "text/x-r-source",
   "name": "R",
   "pygments_lexer": "r",
   "version": "4.2.3"
  }
 },
 "nbformat": 4,
 "nbformat_minor": 4
}
